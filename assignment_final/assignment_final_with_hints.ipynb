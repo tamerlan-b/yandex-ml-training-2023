{
  "cells": [
    {
      "cell_type": "markdown",
      "metadata": {
        "id": "ErGqtdS9_DxV"
      },
      "source": [
        "## Финальное соревнование\n",
        "\n",
        "##### Автор: [Радослав Нейчев](https://www.linkedin.com/in/radoslav-neychev/), @neychev"
      ]
    },
    {
      "cell_type": "markdown",
      "metadata": {
        "id": "9_pUCX4a_DxX"
      },
      "source": [
        "В данном задании вас ждет неизвестная зависимость. Ваша основная задача: **построить две лучших модели**, минимизирующих среднеквадратичную ошибку (MSE):\n",
        "1. На первую модель не налагается ограничений.\n",
        "2. Вторая модель должна быть **линейной**, т.е. представлять собой линейную комбинацию признаков плюс свободный член: $\\boldsymbol{w}^{\\top}\\boldsymbol{x} + b$. При этом __вы можете использовать базовые математические операции для преобразования признаков__: np.exp, np.log, np.pow (полный список доступен в [документации](https://numpy.org/doc/stable/reference/routines.math.html)), а также линейные операции над ними (сумма, умножение на число и пр.). Для преобразования признаков вам будет необходимо написать функцию `my_transformation`. __Кол-во параметров (весов) используемых второй моделью не должно превышать 15 (включая свободный член).__\n",
        "\n",
        "Настоятельно рекомендуем написать код \"с нуля\", лишь поглядывая на готовые примеры, а не просто \"скопировать-вставить\". Это поможет вам в будущем писать код более уверенно"
      ]
    },
    {
      "cell_type": "code",
      "execution_count": 174,
      "metadata": {
        "id": "F1w-XsSp_DxY"
      },
      "outputs": [],
      "source": [
        "import os\n",
        "import json\n",
        "\n",
        "import numpy as np\n",
        "from matplotlib import pyplot as plt\n",
        "from sklearn.linear_model import Ridge\n",
        "from sklearn.ensemble import RandomForestRegressor\n",
        "from sklearn.metrics import mean_squared_error\n",
        "from sklearn.model_selection import train_test_split"
      ]
    },
    {
      "cell_type": "markdown",
      "metadata": {
        "id": "WR8GKGpz_DxY"
      },
      "source": [
        "Загрузка данных происходит ниже. Если она не срабатывает, самостоятельно скачайте файл `hw_final_open_data.npy` и положите его в ту же директорию, что и ноутбук."
      ]
    },
    {
      "cell_type": "code",
      "execution_count": null,
      "metadata": {
        "colab": {
          "base_uri": "https://localhost:8080/"
        },
        "id": "iTe4YK13_DxZ",
        "outputId": "190c357a-315f-46af-804b-1824bedab6b2"
      },
      "outputs": [],
      "source": [
        "!wget https://raw.githubusercontent.com/girafe-ai/ml-course/23f_yandex_ml_trainings/homeworks/assignment_final/hw_final_open_data.npy -O hw_final_open_data.npy\n",
        "!wget https://raw.githubusercontent.com/girafe-ai/ml-course/23f_yandex_ml_trainings/homeworks/assignment_final/hw_final_open_target.npy -O hw_final_open_target.npy"
      ]
    },
    {
      "cell_type": "code",
      "execution_count": 840,
      "metadata": {
        "id": "QOOhB3hA_DxZ"
      },
      "outputs": [],
      "source": [
        "assert os.path.exists('hw_final_open_data.npy'), 'Please, download `hw_final_open_data.npy` and place it in the working directory'\n",
        "assert os.path.exists('hw_final_open_target.npy'), 'Please, download `hw_final_open_target.npy` and place it in the working directory'\n",
        "data = np.load('hw_final_open_data.npy', allow_pickle=False)\n",
        "target = np.load('hw_final_open_target.npy', allow_pickle=False)"
      ]
    },
    {
      "cell_type": "markdown",
      "metadata": {},
      "source": [
        "### Hint 2: Анализируем фичи"
      ]
    },
    {
      "cell_type": "code",
      "execution_count": 644,
      "metadata": {},
      "outputs": [
        {
          "data": {
            "text/plain": [
              "(800, 7)"
            ]
          },
          "execution_count": 644,
          "metadata": {},
          "output_type": "execute_result"
        }
      ],
      "source": [
        "data.shape"
      ]
    },
    {
      "cell_type": "code",
      "execution_count": 645,
      "metadata": {},
      "outputs": [
        {
          "data": {
            "text/html": [
              "<style type=\"text/css\">\n",
              "#T_4a88c_row0_col0, #T_4a88c_row1_col1, #T_4a88c_row1_col5, #T_4a88c_row2_col2, #T_4a88c_row2_col6, #T_4a88c_row3_col3, #T_4a88c_row3_col5, #T_4a88c_row4_col4, #T_4a88c_row5_col1, #T_4a88c_row5_col3, #T_4a88c_row5_col5, #T_4a88c_row6_col2, #T_4a88c_row6_col6 {\n",
              "  background-color: #b40426;\n",
              "  color: #f1f1f1;\n",
              "}\n",
              "#T_4a88c_row0_col1 {\n",
              "  background-color: #cf453c;\n",
              "  color: #f1f1f1;\n",
              "}\n",
              "#T_4a88c_row0_col2 {\n",
              "  background-color: #688aef;\n",
              "  color: #f1f1f1;\n",
              "}\n",
              "#T_4a88c_row0_col3, #T_4a88c_row1_col4 {\n",
              "  background-color: #c32e31;\n",
              "  color: #f1f1f1;\n",
              "}\n",
              "#T_4a88c_row0_col4, #T_4a88c_row1_col3, #T_4a88c_row3_col1, #T_4a88c_row4_col0 {\n",
              "  background-color: #b50927;\n",
              "  color: #f1f1f1;\n",
              "}\n",
              "#T_4a88c_row0_col5 {\n",
              "  background-color: #cc403a;\n",
              "  color: #f1f1f1;\n",
              "}\n",
              "#T_4a88c_row0_col6 {\n",
              "  background-color: #6a8bef;\n",
              "  color: #f1f1f1;\n",
              "}\n",
              "#T_4a88c_row1_col0 {\n",
              "  background-color: #d24b40;\n",
              "  color: #f1f1f1;\n",
              "}\n",
              "#T_4a88c_row1_col2, #T_4a88c_row1_col6, #T_4a88c_row2_col0, #T_4a88c_row2_col1, #T_4a88c_row2_col3, #T_4a88c_row2_col4, #T_4a88c_row2_col5 {\n",
              "  background-color: #3b4cc0;\n",
              "  color: #f1f1f1;\n",
              "}\n",
              "#T_4a88c_row3_col0 {\n",
              "  background-color: #c53334;\n",
              "  color: #f1f1f1;\n",
              "}\n",
              "#T_4a88c_row3_col2, #T_4a88c_row3_col6 {\n",
              "  background-color: #445acc;\n",
              "  color: #f1f1f1;\n",
              "}\n",
              "#T_4a88c_row3_col4 {\n",
              "  background-color: #ba162b;\n",
              "  color: #f1f1f1;\n",
              "}\n",
              "#T_4a88c_row4_col1, #T_4a88c_row5_col4 {\n",
              "  background-color: #c12b30;\n",
              "  color: #f1f1f1;\n",
              "}\n",
              "#T_4a88c_row4_col2 {\n",
              "  background-color: #5977e3;\n",
              "  color: #f1f1f1;\n",
              "}\n",
              "#T_4a88c_row4_col3 {\n",
              "  background-color: #b8122a;\n",
              "  color: #f1f1f1;\n",
              "}\n",
              "#T_4a88c_row4_col5 {\n",
              "  background-color: #c0282f;\n",
              "  color: #f1f1f1;\n",
              "}\n",
              "#T_4a88c_row4_col6 {\n",
              "  background-color: #5a78e4;\n",
              "  color: #f1f1f1;\n",
              "}\n",
              "#T_4a88c_row5_col0 {\n",
              "  background-color: #d0473d;\n",
              "  color: #f1f1f1;\n",
              "}\n",
              "#T_4a88c_row5_col2, #T_4a88c_row5_col6, #T_4a88c_row6_col1, #T_4a88c_row6_col5 {\n",
              "  background-color: #3c4ec2;\n",
              "  color: #f1f1f1;\n",
              "}\n",
              "#T_4a88c_row6_col0 {\n",
              "  background-color: #3e51c5;\n",
              "  color: #f1f1f1;\n",
              "}\n",
              "#T_4a88c_row6_col3, #T_4a88c_row6_col4 {\n",
              "  background-color: #3d50c3;\n",
              "  color: #f1f1f1;\n",
              "}\n",
              "</style>\n",
              "<table id=\"T_4a88c\">\n",
              "  <thead>\n",
              "    <tr>\n",
              "      <th class=\"blank level0\" >&nbsp;</th>\n",
              "      <th id=\"T_4a88c_level0_col0\" class=\"col_heading level0 col0\" >0</th>\n",
              "      <th id=\"T_4a88c_level0_col1\" class=\"col_heading level0 col1\" >1</th>\n",
              "      <th id=\"T_4a88c_level0_col2\" class=\"col_heading level0 col2\" >2</th>\n",
              "      <th id=\"T_4a88c_level0_col3\" class=\"col_heading level0 col3\" >3</th>\n",
              "      <th id=\"T_4a88c_level0_col4\" class=\"col_heading level0 col4\" >4</th>\n",
              "      <th id=\"T_4a88c_level0_col5\" class=\"col_heading level0 col5\" >5</th>\n",
              "      <th id=\"T_4a88c_level0_col6\" class=\"col_heading level0 col6\" >6</th>\n",
              "    </tr>\n",
              "  </thead>\n",
              "  <tbody>\n",
              "    <tr>\n",
              "      <th id=\"T_4a88c_level0_row0\" class=\"row_heading level0 row0\" >0</th>\n",
              "      <td id=\"T_4a88c_row0_col0\" class=\"data row0 col0\" >1.000</td>\n",
              "      <td id=\"T_4a88c_row0_col1\" class=\"data row0 col1\" >0.938</td>\n",
              "      <td id=\"T_4a88c_row0_col2\" class=\"data row0 col2\" >0.290</td>\n",
              "      <td id=\"T_4a88c_row0_col3\" class=\"data row0 col3\" >0.966</td>\n",
              "      <td id=\"T_4a88c_row0_col4\" class=\"data row0 col4\" >0.995</td>\n",
              "      <td id=\"T_4a88c_row0_col5\" class=\"data row0 col5\" >0.944</td>\n",
              "      <td id=\"T_4a88c_row0_col6\" class=\"data row0 col6\" >0.300</td>\n",
              "    </tr>\n",
              "    <tr>\n",
              "      <th id=\"T_4a88c_level0_row1\" class=\"row_heading level0 row1\" >1</th>\n",
              "      <td id=\"T_4a88c_row1_col0\" class=\"data row1 col0\" >0.938</td>\n",
              "      <td id=\"T_4a88c_row1_col1\" class=\"data row1 col1\" >1.000</td>\n",
              "      <td id=\"T_4a88c_row1_col2\" class=\"data row1 col2\" >0.169</td>\n",
              "      <td id=\"T_4a88c_row1_col3\" class=\"data row1 col3\" >0.996</td>\n",
              "      <td id=\"T_4a88c_row1_col4\" class=\"data row1 col4\" >0.969</td>\n",
              "      <td id=\"T_4a88c_row1_col5\" class=\"data row1 col5\" >1.000</td>\n",
              "      <td id=\"T_4a88c_row1_col6\" class=\"data row1 col6\" >0.175</td>\n",
              "    </tr>\n",
              "    <tr>\n",
              "      <th id=\"T_4a88c_level0_row2\" class=\"row_heading level0 row2\" >2</th>\n",
              "      <td id=\"T_4a88c_row2_col0\" class=\"data row2 col0\" >0.290</td>\n",
              "      <td id=\"T_4a88c_row2_col1\" class=\"data row2 col1\" >0.169</td>\n",
              "      <td id=\"T_4a88c_row2_col2\" class=\"data row2 col2\" >1.000</td>\n",
              "      <td id=\"T_4a88c_row2_col3\" class=\"data row2 col3\" >0.197</td>\n",
              "      <td id=\"T_4a88c_row2_col4\" class=\"data row2 col4\" >0.251</td>\n",
              "      <td id=\"T_4a88c_row2_col5\" class=\"data row2 col5\" >0.174</td>\n",
              "      <td id=\"T_4a88c_row2_col6\" class=\"data row2 col6\" >0.999</td>\n",
              "    </tr>\n",
              "    <tr>\n",
              "      <th id=\"T_4a88c_level0_row3\" class=\"row_heading level0 row3\" >3</th>\n",
              "      <td id=\"T_4a88c_row3_col0\" class=\"data row3 col0\" >0.966</td>\n",
              "      <td id=\"T_4a88c_row3_col1\" class=\"data row3 col1\" >0.996</td>\n",
              "      <td id=\"T_4a88c_row3_col2\" class=\"data row3 col2\" >0.197</td>\n",
              "      <td id=\"T_4a88c_row3_col3\" class=\"data row3 col3\" >1.000</td>\n",
              "      <td id=\"T_4a88c_row3_col4\" class=\"data row3 col4\" >0.988</td>\n",
              "      <td id=\"T_4a88c_row3_col5\" class=\"data row3 col5\" >0.997</td>\n",
              "      <td id=\"T_4a88c_row3_col6\" class=\"data row3 col6\" >0.204</td>\n",
              "    </tr>\n",
              "    <tr>\n",
              "      <th id=\"T_4a88c_level0_row4\" class=\"row_heading level0 row4\" >4</th>\n",
              "      <td id=\"T_4a88c_row4_col0\" class=\"data row4 col0\" >0.995</td>\n",
              "      <td id=\"T_4a88c_row4_col1\" class=\"data row4 col1\" >0.969</td>\n",
              "      <td id=\"T_4a88c_row4_col2\" class=\"data row4 col2\" >0.251</td>\n",
              "      <td id=\"T_4a88c_row4_col3\" class=\"data row4 col3\" >0.988</td>\n",
              "      <td id=\"T_4a88c_row4_col4\" class=\"data row4 col4\" >1.000</td>\n",
              "      <td id=\"T_4a88c_row4_col5\" class=\"data row4 col5\" >0.973</td>\n",
              "      <td id=\"T_4a88c_row4_col6\" class=\"data row4 col6\" >0.260</td>\n",
              "    </tr>\n",
              "    <tr>\n",
              "      <th id=\"T_4a88c_level0_row5\" class=\"row_heading level0 row5\" >5</th>\n",
              "      <td id=\"T_4a88c_row5_col0\" class=\"data row5 col0\" >0.944</td>\n",
              "      <td id=\"T_4a88c_row5_col1\" class=\"data row5 col1\" >1.000</td>\n",
              "      <td id=\"T_4a88c_row5_col2\" class=\"data row5 col2\" >0.174</td>\n",
              "      <td id=\"T_4a88c_row5_col3\" class=\"data row5 col3\" >0.997</td>\n",
              "      <td id=\"T_4a88c_row5_col4\" class=\"data row5 col4\" >0.973</td>\n",
              "      <td id=\"T_4a88c_row5_col5\" class=\"data row5 col5\" >1.000</td>\n",
              "      <td id=\"T_4a88c_row5_col6\" class=\"data row5 col6\" >0.180</td>\n",
              "    </tr>\n",
              "    <tr>\n",
              "      <th id=\"T_4a88c_level0_row6\" class=\"row_heading level0 row6\" >6</th>\n",
              "      <td id=\"T_4a88c_row6_col0\" class=\"data row6 col0\" >0.300</td>\n",
              "      <td id=\"T_4a88c_row6_col1\" class=\"data row6 col1\" >0.175</td>\n",
              "      <td id=\"T_4a88c_row6_col2\" class=\"data row6 col2\" >0.999</td>\n",
              "      <td id=\"T_4a88c_row6_col3\" class=\"data row6 col3\" >0.204</td>\n",
              "      <td id=\"T_4a88c_row6_col4\" class=\"data row6 col4\" >0.260</td>\n",
              "      <td id=\"T_4a88c_row6_col5\" class=\"data row6 col5\" >0.180</td>\n",
              "      <td id=\"T_4a88c_row6_col6\" class=\"data row6 col6\" >1.000</td>\n",
              "    </tr>\n",
              "  </tbody>\n",
              "</table>\n"
            ],
            "text/plain": [
              "<pandas.io.formats.style.Styler at 0x7ff6c31dbb20>"
            ]
          },
          "execution_count": 645,
          "metadata": {},
          "output_type": "execute_result"
        }
      ],
      "source": [
        "import pandas as pd\n",
        "df = pd.DataFrame(data)\n",
        "corr = df.corr()\n",
        "corr.style.background_gradient(cmap='coolwarm').format(precision=3)"
      ]
    },
    {
      "cell_type": "markdown",
      "metadata": {},
      "source": [
        "**1. Filter methods**: 1. Basic methods. 1. Remove constant features using variance threshold"
      ]
    },
    {
      "cell_type": "code",
      "execution_count": 646,
      "metadata": {},
      "outputs": [
        {
          "data": {
            "text/html": [
              "<style>#sk-container-id-32 {color: black;}#sk-container-id-32 pre{padding: 0;}#sk-container-id-32 div.sk-toggleable {background-color: white;}#sk-container-id-32 label.sk-toggleable__label {cursor: pointer;display: block;width: 100%;margin-bottom: 0;padding: 0.3em;box-sizing: border-box;text-align: center;}#sk-container-id-32 label.sk-toggleable__label-arrow:before {content: \"▸\";float: left;margin-right: 0.25em;color: #696969;}#sk-container-id-32 label.sk-toggleable__label-arrow:hover:before {color: black;}#sk-container-id-32 div.sk-estimator:hover label.sk-toggleable__label-arrow:before {color: black;}#sk-container-id-32 div.sk-toggleable__content {max-height: 0;max-width: 0;overflow: hidden;text-align: left;background-color: #f0f8ff;}#sk-container-id-32 div.sk-toggleable__content pre {margin: 0.2em;color: black;border-radius: 0.25em;background-color: #f0f8ff;}#sk-container-id-32 input.sk-toggleable__control:checked~div.sk-toggleable__content {max-height: 200px;max-width: 100%;overflow: auto;}#sk-container-id-32 input.sk-toggleable__control:checked~label.sk-toggleable__label-arrow:before {content: \"▾\";}#sk-container-id-32 div.sk-estimator input.sk-toggleable__control:checked~label.sk-toggleable__label {background-color: #d4ebff;}#sk-container-id-32 div.sk-label input.sk-toggleable__control:checked~label.sk-toggleable__label {background-color: #d4ebff;}#sk-container-id-32 input.sk-hidden--visually {border: 0;clip: rect(1px 1px 1px 1px);clip: rect(1px, 1px, 1px, 1px);height: 1px;margin: -1px;overflow: hidden;padding: 0;position: absolute;width: 1px;}#sk-container-id-32 div.sk-estimator {font-family: monospace;background-color: #f0f8ff;border: 1px dotted black;border-radius: 0.25em;box-sizing: border-box;margin-bottom: 0.5em;}#sk-container-id-32 div.sk-estimator:hover {background-color: #d4ebff;}#sk-container-id-32 div.sk-parallel-item::after {content: \"\";width: 100%;border-bottom: 1px solid gray;flex-grow: 1;}#sk-container-id-32 div.sk-label:hover label.sk-toggleable__label {background-color: #d4ebff;}#sk-container-id-32 div.sk-serial::before {content: \"\";position: absolute;border-left: 1px solid gray;box-sizing: border-box;top: 0;bottom: 0;left: 50%;z-index: 0;}#sk-container-id-32 div.sk-serial {display: flex;flex-direction: column;align-items: center;background-color: white;padding-right: 0.2em;padding-left: 0.2em;position: relative;}#sk-container-id-32 div.sk-item {position: relative;z-index: 1;}#sk-container-id-32 div.sk-parallel {display: flex;align-items: stretch;justify-content: center;background-color: white;position: relative;}#sk-container-id-32 div.sk-item::before, #sk-container-id-32 div.sk-parallel-item::before {content: \"\";position: absolute;border-left: 1px solid gray;box-sizing: border-box;top: 0;bottom: 0;left: 50%;z-index: -1;}#sk-container-id-32 div.sk-parallel-item {display: flex;flex-direction: column;z-index: 1;position: relative;background-color: white;}#sk-container-id-32 div.sk-parallel-item:first-child::after {align-self: flex-end;width: 50%;}#sk-container-id-32 div.sk-parallel-item:last-child::after {align-self: flex-start;width: 50%;}#sk-container-id-32 div.sk-parallel-item:only-child::after {width: 0;}#sk-container-id-32 div.sk-dashed-wrapped {border: 1px dashed gray;margin: 0 0.4em 0.5em 0.4em;box-sizing: border-box;padding-bottom: 0.4em;background-color: white;}#sk-container-id-32 div.sk-label label {font-family: monospace;font-weight: bold;display: inline-block;line-height: 1.2em;}#sk-container-id-32 div.sk-label-container {text-align: center;}#sk-container-id-32 div.sk-container {/* jupyter's `normalize.less` sets `[hidden] { display: none; }` but bootstrap.min.css set `[hidden] { display: none !important; }` so we also need the `!important` here to be able to override the default hidden behavior on the sphinx rendered scikit-learn.org. See: https://github.com/scikit-learn/scikit-learn/issues/21755 */display: inline-block !important;position: relative;}#sk-container-id-32 div.sk-text-repr-fallback {display: none;}</style><div id=\"sk-container-id-32\" class=\"sk-top-container\"><div class=\"sk-text-repr-fallback\"><pre>VarianceThreshold(threshold=0)</pre><b>In a Jupyter environment, please rerun this cell to show the HTML representation or trust the notebook. <br />On GitHub, the HTML representation is unable to render, please try loading this page with nbviewer.org.</b></div><div class=\"sk-container\" hidden><div class=\"sk-item\"><div class=\"sk-estimator sk-toggleable\"><input class=\"sk-toggleable__control sk-hidden--visually\" id=\"sk-estimator-id-32\" type=\"checkbox\" checked><label for=\"sk-estimator-id-32\" class=\"sk-toggleable__label sk-toggleable__label-arrow\">VarianceThreshold</label><div class=\"sk-toggleable__content\"><pre>VarianceThreshold(threshold=0)</pre></div></div></div></div></div>"
            ],
            "text/plain": [
              "VarianceThreshold(threshold=0)"
            ]
          },
          "execution_count": 646,
          "metadata": {},
          "output_type": "execute_result"
        }
      ],
      "source": [
        "from sklearn.feature_selection import VarianceThreshold\n",
        "sel = VarianceThreshold(threshold=0)\n",
        "sel.fit(data)"
      ]
    },
    {
      "cell_type": "code",
      "execution_count": 647,
      "metadata": {},
      "outputs": [
        {
          "name": "stdout",
          "output_type": "stream",
          "text": [
            "Non-constant features number:  7\n"
          ]
        }
      ],
      "source": [
        "non_const_feat_num = sum(sel.get_support())\n",
        "print(\"Non-constant features number: \", non_const_feat_num)"
      ]
    },
    {
      "cell_type": "markdown",
      "metadata": {},
      "source": [
        "**1. Filter methods**: 1. Basic methods. 2. Remove quasi-constant features using variance threshold"
      ]
    },
    {
      "cell_type": "code",
      "execution_count": 648,
      "metadata": {},
      "outputs": [
        {
          "data": {
            "text/html": [
              "<style>#sk-container-id-33 {color: black;}#sk-container-id-33 pre{padding: 0;}#sk-container-id-33 div.sk-toggleable {background-color: white;}#sk-container-id-33 label.sk-toggleable__label {cursor: pointer;display: block;width: 100%;margin-bottom: 0;padding: 0.3em;box-sizing: border-box;text-align: center;}#sk-container-id-33 label.sk-toggleable__label-arrow:before {content: \"▸\";float: left;margin-right: 0.25em;color: #696969;}#sk-container-id-33 label.sk-toggleable__label-arrow:hover:before {color: black;}#sk-container-id-33 div.sk-estimator:hover label.sk-toggleable__label-arrow:before {color: black;}#sk-container-id-33 div.sk-toggleable__content {max-height: 0;max-width: 0;overflow: hidden;text-align: left;background-color: #f0f8ff;}#sk-container-id-33 div.sk-toggleable__content pre {margin: 0.2em;color: black;border-radius: 0.25em;background-color: #f0f8ff;}#sk-container-id-33 input.sk-toggleable__control:checked~div.sk-toggleable__content {max-height: 200px;max-width: 100%;overflow: auto;}#sk-container-id-33 input.sk-toggleable__control:checked~label.sk-toggleable__label-arrow:before {content: \"▾\";}#sk-container-id-33 div.sk-estimator input.sk-toggleable__control:checked~label.sk-toggleable__label {background-color: #d4ebff;}#sk-container-id-33 div.sk-label input.sk-toggleable__control:checked~label.sk-toggleable__label {background-color: #d4ebff;}#sk-container-id-33 input.sk-hidden--visually {border: 0;clip: rect(1px 1px 1px 1px);clip: rect(1px, 1px, 1px, 1px);height: 1px;margin: -1px;overflow: hidden;padding: 0;position: absolute;width: 1px;}#sk-container-id-33 div.sk-estimator {font-family: monospace;background-color: #f0f8ff;border: 1px dotted black;border-radius: 0.25em;box-sizing: border-box;margin-bottom: 0.5em;}#sk-container-id-33 div.sk-estimator:hover {background-color: #d4ebff;}#sk-container-id-33 div.sk-parallel-item::after {content: \"\";width: 100%;border-bottom: 1px solid gray;flex-grow: 1;}#sk-container-id-33 div.sk-label:hover label.sk-toggleable__label {background-color: #d4ebff;}#sk-container-id-33 div.sk-serial::before {content: \"\";position: absolute;border-left: 1px solid gray;box-sizing: border-box;top: 0;bottom: 0;left: 50%;z-index: 0;}#sk-container-id-33 div.sk-serial {display: flex;flex-direction: column;align-items: center;background-color: white;padding-right: 0.2em;padding-left: 0.2em;position: relative;}#sk-container-id-33 div.sk-item {position: relative;z-index: 1;}#sk-container-id-33 div.sk-parallel {display: flex;align-items: stretch;justify-content: center;background-color: white;position: relative;}#sk-container-id-33 div.sk-item::before, #sk-container-id-33 div.sk-parallel-item::before {content: \"\";position: absolute;border-left: 1px solid gray;box-sizing: border-box;top: 0;bottom: 0;left: 50%;z-index: -1;}#sk-container-id-33 div.sk-parallel-item {display: flex;flex-direction: column;z-index: 1;position: relative;background-color: white;}#sk-container-id-33 div.sk-parallel-item:first-child::after {align-self: flex-end;width: 50%;}#sk-container-id-33 div.sk-parallel-item:last-child::after {align-self: flex-start;width: 50%;}#sk-container-id-33 div.sk-parallel-item:only-child::after {width: 0;}#sk-container-id-33 div.sk-dashed-wrapped {border: 1px dashed gray;margin: 0 0.4em 0.5em 0.4em;box-sizing: border-box;padding-bottom: 0.4em;background-color: white;}#sk-container-id-33 div.sk-label label {font-family: monospace;font-weight: bold;display: inline-block;line-height: 1.2em;}#sk-container-id-33 div.sk-label-container {text-align: center;}#sk-container-id-33 div.sk-container {/* jupyter's `normalize.less` sets `[hidden] { display: none; }` but bootstrap.min.css set `[hidden] { display: none !important; }` so we also need the `!important` here to be able to override the default hidden behavior on the sphinx rendered scikit-learn.org. See: https://github.com/scikit-learn/scikit-learn/issues/21755 */display: inline-block !important;position: relative;}#sk-container-id-33 div.sk-text-repr-fallback {display: none;}</style><div id=\"sk-container-id-33\" class=\"sk-top-container\"><div class=\"sk-text-repr-fallback\"><pre>VarianceThreshold(threshold=0.01)</pre><b>In a Jupyter environment, please rerun this cell to show the HTML representation or trust the notebook. <br />On GitHub, the HTML representation is unable to render, please try loading this page with nbviewer.org.</b></div><div class=\"sk-container\" hidden><div class=\"sk-item\"><div class=\"sk-estimator sk-toggleable\"><input class=\"sk-toggleable__control sk-hidden--visually\" id=\"sk-estimator-id-33\" type=\"checkbox\" checked><label for=\"sk-estimator-id-33\" class=\"sk-toggleable__label sk-toggleable__label-arrow\">VarianceThreshold</label><div class=\"sk-toggleable__content\"><pre>VarianceThreshold(threshold=0.01)</pre></div></div></div></div></div>"
            ],
            "text/plain": [
              "VarianceThreshold(threshold=0.01)"
            ]
          },
          "execution_count": 648,
          "metadata": {},
          "output_type": "execute_result"
        }
      ],
      "source": [
        "sel = VarianceThreshold(threshold=0.01)  # 0.1 indicates 99% of observations approximately\n",
        "sel.fit(data)"
      ]
    },
    {
      "cell_type": "code",
      "execution_count": 649,
      "metadata": {},
      "outputs": [
        {
          "name": "stdout",
          "output_type": "stream",
          "text": [
            "Non-constant features number:  3\n"
          ]
        }
      ],
      "source": [
        "quasi_const_feat_num = sum(sel.get_support())\n",
        "print(\"Non-constant features number: \", quasi_const_feat_num)"
      ]
    },
    {
      "cell_type": "code",
      "execution_count": 650,
      "metadata": {},
      "outputs": [
        {
          "name": "stdout",
          "output_type": "stream",
          "text": [
            "Quasi-const feature indices:  [0 2 4 6]\n"
          ]
        }
      ],
      "source": [
        "quasi_const_indices = np.where(~sel.get_support())[0]\n",
        "print(\"Quasi-const feature indices: \", quasi_const_indices)"
      ]
    },
    {
      "cell_type": "code",
      "execution_count": 651,
      "metadata": {},
      "outputs": [],
      "source": [
        "def get_table_sizes(arr_len):\n",
        "    arr_len_sqrt = np.sqrt(arr_len)\n",
        "    sup_sqrt = int(np.ceil(arr_len_sqrt))\n",
        "    inf_sqrt = int(np.floor(arr_len_sqrt))\n",
        "\n",
        "    inf_dist = arr_len - inf_sqrt ** 2\n",
        "    sup_dist = sup_sqrt ** 2 - arr_len\n",
        "\n",
        "    if inf_dist < sup_dist:\n",
        "        return inf_sqrt + 1, inf_sqrt\n",
        "    else:\n",
        "        return sup_sqrt, sup_sqrt"
      ]
    },
    {
      "cell_type": "code",
      "execution_count": 652,
      "metadata": {},
      "outputs": [],
      "source": [
        "def draw_distributions(data, indices=None, plot_type='violin'):\n",
        "    \"\"\"Draw disitributions\n",
        "\n",
        "    Args:\n",
        "        data (np.ndarray): data matrix\n",
        "        indices (list, optional): List of indices to analyze. Defaults to None.\n",
        "        plot_type (str, optional): plot type: 'box', 'hist' or 'violin'. Defaults to 'violin'.\n",
        "    \"\"\"\n",
        "    \n",
        "    if indices is None:\n",
        "        indices = list(range(data.shape[1]))\n",
        "\n",
        "    rows, cols = get_table_sizes(len(indices))\n",
        "    fig, axs = plt.subplots(rows, cols)\n",
        "\n",
        "    # plot_type = 'violin' # 'box', 'hist', 'violin'\n",
        "\n",
        "    for i, ind in enumerate(indices):\n",
        "        plot_data = data[:, ind]\n",
        "        if plot_type == 'hist':\n",
        "            axs[i // cols, i % cols].hist(plot_data, color='lightgreen', ec='black', bins=10)\n",
        "        elif plot_type == 'box':\n",
        "            axs[i // cols, i % cols].boxplot(plot_data)\n",
        "        elif plot_type == 'violin':\n",
        "            axs[i // cols, i % cols].violinplot(plot_data, showmeans=False, showmedians=True)\n",
        "        axs[i // cols, i % cols].set_title(f'Feature {ind}')\n",
        "    fig.tight_layout()"
      ]
    },
    {
      "cell_type": "code",
      "execution_count": 653,
      "metadata": {},
      "outputs": [
        {
          "data": {
            "image/png": "[encoded data removed]",
            "text/plain": [
              "<Figure size 640x480 with 4 Axes>"
            ]
          },
          "metadata": {},
          "output_type": "display_data"
        }
      ],
      "source": [
        "draw_distributions(data, indices=quasi_const_indices)"
      ]
    },
    {
      "cell_type": "markdown",
      "metadata": {},
      "source": [
        "Вывод: фичи 0, 2, 4, 6 - неинформативны, их удаляем"
      ]
    },
    {
      "cell_type": "code",
      "execution_count": 654,
      "metadata": {},
      "outputs": [
        {
          "data": {
            "text/plain": [
              "(800, 3)"
            ]
          },
          "execution_count": 654,
          "metadata": {},
          "output_type": "execute_result"
        }
      ],
      "source": [
        "# reduced_data = np.take(data, [0,1,3,4,5], axis=1)\n",
        "reduced_data = np.take(data, [1,3,5], axis=1)\n",
        "# reduced_data = data\n",
        "reduced_data.shape"
      ]
    },
    {
      "cell_type": "markdown",
      "metadata": {},
      "source": [
        "**1. Filter methods**: Correlation matrix"
      ]
    },
    {
      "cell_type": "code",
      "execution_count": 655,
      "metadata": {},
      "outputs": [
        {
          "data": {
            "text/html": [
              "<style type=\"text/css\">\n",
              "#T_de301_row0_col0, #T_de301_row1_col1, #T_de301_row2_col2 {\n",
              "  background-color: #b40426;\n",
              "  color: #f1f1f1;\n",
              "}\n",
              "#T_de301_row0_col1, #T_de301_row1_col0, #T_de301_row1_col2 {\n",
              "  background-color: #3b4cc0;\n",
              "  color: #f1f1f1;\n",
              "}\n",
              "#T_de301_row0_col2 {\n",
              "  background-color: #c53334;\n",
              "  color: #f1f1f1;\n",
              "}\n",
              "#T_de301_row2_col0 {\n",
              "  background-color: #c0282f;\n",
              "  color: #f1f1f1;\n",
              "}\n",
              "#T_de301_row2_col1 {\n",
              "  background-color: #a7c5fe;\n",
              "  color: #000000;\n",
              "}\n",
              "</style>\n",
              "<table id=\"T_de301\">\n",
              "  <thead>\n",
              "    <tr>\n",
              "      <th class=\"blank level0\" >&nbsp;</th>\n",
              "      <th id=\"T_de301_level0_col0\" class=\"col_heading level0 col0\" >0</th>\n",
              "      <th id=\"T_de301_level0_col1\" class=\"col_heading level0 col1\" >1</th>\n",
              "      <th id=\"T_de301_level0_col2\" class=\"col_heading level0 col2\" >2</th>\n",
              "    </tr>\n",
              "  </thead>\n",
              "  <tbody>\n",
              "    <tr>\n",
              "      <th id=\"T_de301_level0_row0\" class=\"row_heading level0 row0\" >0</th>\n",
              "      <td id=\"T_de301_row0_col0\" class=\"data row0 col0\" >1.000</td>\n",
              "      <td id=\"T_de301_row0_col1\" class=\"data row0 col1\" >0.996</td>\n",
              "      <td id=\"T_de301_row0_col2\" class=\"data row0 col2\" >1.000</td>\n",
              "    </tr>\n",
              "    <tr>\n",
              "      <th id=\"T_de301_level0_row1\" class=\"row_heading level0 row1\" >1</th>\n",
              "      <td id=\"T_de301_row1_col0\" class=\"data row1 col0\" >0.996</td>\n",
              "      <td id=\"T_de301_row1_col1\" class=\"data row1 col1\" >1.000</td>\n",
              "      <td id=\"T_de301_row1_col2\" class=\"data row1 col2\" >0.997</td>\n",
              "    </tr>\n",
              "    <tr>\n",
              "      <th id=\"T_de301_level0_row2\" class=\"row_heading level0 row2\" >2</th>\n",
              "      <td id=\"T_de301_row2_col0\" class=\"data row2 col0\" >1.000</td>\n",
              "      <td id=\"T_de301_row2_col1\" class=\"data row2 col1\" >0.997</td>\n",
              "      <td id=\"T_de301_row2_col2\" class=\"data row2 col2\" >1.000</td>\n",
              "    </tr>\n",
              "  </tbody>\n",
              "</table>\n"
            ],
            "text/plain": [
              "<pandas.io.formats.style.Styler at 0x7ff6c37e8ee0>"
            ]
          },
          "execution_count": 655,
          "metadata": {},
          "output_type": "execute_result"
        }
      ],
      "source": [
        "import pandas as pd\n",
        "df = pd.DataFrame(reduced_data)\n",
        "corr = df.corr()\n",
        "corr.style.background_gradient(cmap='coolwarm').format(precision=3)"
      ]
    },
    {
      "cell_type": "code",
      "execution_count": 656,
      "metadata": {},
      "outputs": [],
      "source": [
        "#np.corrcoef(data.T)"
      ]
    },
    {
      "cell_type": "markdown",
      "metadata": {},
      "source": [
        "### Hint 3. Нормализация данных"
      ]
    },
    {
      "cell_type": "code",
      "execution_count": 657,
      "metadata": {},
      "outputs": [
        {
          "data": {
            "text/html": [
              "<style>#sk-container-id-34 {color: black;}#sk-container-id-34 pre{padding: 0;}#sk-container-id-34 div.sk-toggleable {background-color: white;}#sk-container-id-34 label.sk-toggleable__label {cursor: pointer;display: block;width: 100%;margin-bottom: 0;padding: 0.3em;box-sizing: border-box;text-align: center;}#sk-container-id-34 label.sk-toggleable__label-arrow:before {content: \"▸\";float: left;margin-right: 0.25em;color: #696969;}#sk-container-id-34 label.sk-toggleable__label-arrow:hover:before {color: black;}#sk-container-id-34 div.sk-estimator:hover label.sk-toggleable__label-arrow:before {color: black;}#sk-container-id-34 div.sk-toggleable__content {max-height: 0;max-width: 0;overflow: hidden;text-align: left;background-color: #f0f8ff;}#sk-container-id-34 div.sk-toggleable__content pre {margin: 0.2em;color: black;border-radius: 0.25em;background-color: #f0f8ff;}#sk-container-id-34 input.sk-toggleable__control:checked~div.sk-toggleable__content {max-height: 200px;max-width: 100%;overflow: auto;}#sk-container-id-34 input.sk-toggleable__control:checked~label.sk-toggleable__label-arrow:before {content: \"▾\";}#sk-container-id-34 div.sk-estimator input.sk-toggleable__control:checked~label.sk-toggleable__label {background-color: #d4ebff;}#sk-container-id-34 div.sk-label input.sk-toggleable__control:checked~label.sk-toggleable__label {background-color: #d4ebff;}#sk-container-id-34 input.sk-hidden--visually {border: 0;clip: rect(1px 1px 1px 1px);clip: rect(1px, 1px, 1px, 1px);height: 1px;margin: -1px;overflow: hidden;padding: 0;position: absolute;width: 1px;}#sk-container-id-34 div.sk-estimator {font-family: monospace;background-color: #f0f8ff;border: 1px dotted black;border-radius: 0.25em;box-sizing: border-box;margin-bottom: 0.5em;}#sk-container-id-34 div.sk-estimator:hover {background-color: #d4ebff;}#sk-container-id-34 div.sk-parallel-item::after {content: \"\";width: 100%;border-bottom: 1px solid gray;flex-grow: 1;}#sk-container-id-34 div.sk-label:hover label.sk-toggleable__label {background-color: #d4ebff;}#sk-container-id-34 div.sk-serial::before {content: \"\";position: absolute;border-left: 1px solid gray;box-sizing: border-box;top: 0;bottom: 0;left: 50%;z-index: 0;}#sk-container-id-34 div.sk-serial {display: flex;flex-direction: column;align-items: center;background-color: white;padding-right: 0.2em;padding-left: 0.2em;position: relative;}#sk-container-id-34 div.sk-item {position: relative;z-index: 1;}#sk-container-id-34 div.sk-parallel {display: flex;align-items: stretch;justify-content: center;background-color: white;position: relative;}#sk-container-id-34 div.sk-item::before, #sk-container-id-34 div.sk-parallel-item::before {content: \"\";position: absolute;border-left: 1px solid gray;box-sizing: border-box;top: 0;bottom: 0;left: 50%;z-index: -1;}#sk-container-id-34 div.sk-parallel-item {display: flex;flex-direction: column;z-index: 1;position: relative;background-color: white;}#sk-container-id-34 div.sk-parallel-item:first-child::after {align-self: flex-end;width: 50%;}#sk-container-id-34 div.sk-parallel-item:last-child::after {align-self: flex-start;width: 50%;}#sk-container-id-34 div.sk-parallel-item:only-child::after {width: 0;}#sk-container-id-34 div.sk-dashed-wrapped {border: 1px dashed gray;margin: 0 0.4em 0.5em 0.4em;box-sizing: border-box;padding-bottom: 0.4em;background-color: white;}#sk-container-id-34 div.sk-label label {font-family: monospace;font-weight: bold;display: inline-block;line-height: 1.2em;}#sk-container-id-34 div.sk-label-container {text-align: center;}#sk-container-id-34 div.sk-container {/* jupyter's `normalize.less` sets `[hidden] { display: none; }` but bootstrap.min.css set `[hidden] { display: none !important; }` so we also need the `!important` here to be able to override the default hidden behavior on the sphinx rendered scikit-learn.org. See: https://github.com/scikit-learn/scikit-learn/issues/21755 */display: inline-block !important;position: relative;}#sk-container-id-34 div.sk-text-repr-fallback {display: none;}</style><div id=\"sk-container-id-34\" class=\"sk-top-container\"><div class=\"sk-text-repr-fallback\"><pre>StandardScaler()</pre><b>In a Jupyter environment, please rerun this cell to show the HTML representation or trust the notebook. <br />On GitHub, the HTML representation is unable to render, please try loading this page with nbviewer.org.</b></div><div class=\"sk-container\" hidden><div class=\"sk-item\"><div class=\"sk-estimator sk-toggleable\"><input class=\"sk-toggleable__control sk-hidden--visually\" id=\"sk-estimator-id-34\" type=\"checkbox\" checked><label for=\"sk-estimator-id-34\" class=\"sk-toggleable__label sk-toggleable__label-arrow\">StandardScaler</label><div class=\"sk-toggleable__content\"><pre>StandardScaler()</pre></div></div></div></div></div>"
            ],
            "text/plain": [
              "StandardScaler()"
            ]
          },
          "execution_count": 657,
          "metadata": {},
          "output_type": "execute_result"
        }
      ],
      "source": [
        "from sklearn.preprocessing import StandardScaler\n",
        "scaler = StandardScaler()\n",
        "scaler.fit(reduced_data)"
      ]
    },
    {
      "cell_type": "code",
      "execution_count": 658,
      "metadata": {},
      "outputs": [],
      "source": [
        "transformed_data = scaler.transform(reduced_data)"
      ]
    },
    {
      "cell_type": "code",
      "execution_count": 659,
      "metadata": {},
      "outputs": [
        {
          "data": {
            "text/plain": [
              "-1.4868329213279752"
            ]
          },
          "execution_count": 659,
          "metadata": {},
          "output_type": "execute_result"
        }
      ],
      "source": [
        "transformed_data[:, 0].min()"
      ]
    },
    {
      "cell_type": "code",
      "execution_count": 660,
      "metadata": {},
      "outputs": [
        {
          "data": {
            "image/png": "[encoded data removed]",
            "text/plain": [
              "<Figure size 640x480 with 4 Axes>"
            ]
          },
          "metadata": {},
          "output_type": "display_data"
        }
      ],
      "source": [
        "draw_distributions(transformed_data)"
      ]
    },
    {
      "cell_type": "markdown",
      "metadata": {
        "id": "OrNLsI_j_DxZ"
      },
      "source": [
        "Разбивка на `train` и `val` опциональна и сделана для вашего удобства."
      ]
    },
    {
      "cell_type": "code",
      "execution_count": 661,
      "metadata": {
        "id": "vOfrc3pH_DxZ"
      },
      "outputs": [],
      "source": [
        "train_x, valid_x, train_y, valid_y = train_test_split(transformed_data, target, test_size=0.3)"
      ]
    },
    {
      "cell_type": "markdown",
      "metadata": {
        "id": "5yhrRSTl_DxZ"
      },
      "source": [
        "### Модель №1\n",
        "Напоминаем, в первой части задания ваша основная задача – получить наилучший результат без ограничений на модель. Сдаваться будут только предсказания модели.\n",
        "\n",
        "Пример с использованием Random Forest доступен ниже."
      ]
    },
    {
      "cell_type": "code",
      "execution_count": 662,
      "metadata": {},
      "outputs": [],
      "source": [
        "def calc_mse(x_data, y_data, model):\n",
        "    return mean_squared_error(np.round(model.predict(x_data), 2), np.round(y_data))\n",
        "\n",
        "def calc_score(mse):\n",
        "    return max(np.round((1 - mse) * 1.5, 2), 0)"
      ]
    },
    {
      "cell_type": "code",
      "execution_count": 668,
      "metadata": {
        "colab": {
          "base_uri": "https://localhost:8080/"
        },
        "id": "kaX05-aK_Dxa",
        "outputId": "83aec9e4-35dd-439c-d08b-12b0f830f5c7"
      },
      "outputs": [
        {
          "name": "stdout",
          "output_type": "stream",
          "text": [
            "train mse =\t 0.16189\n",
            "validation mse = 0.21302\n",
            "score on validation = 1.18000\n"
          ]
        }
      ],
      "source": [
        "rng = np.random.RandomState(0)  # Hint 1: Фиксируем random_state для контроля случайности\n",
        "rf = RandomForestRegressor(\n",
        "    random_state=rng,\n",
        "    n_estimators=10,\n",
        "    max_depth=4,\n",
        "    min_samples_leaf=3,\n",
        "    # max_features=1\n",
        "    )\n",
        "rf.fit(train_x, train_y)\n",
        "\n",
        "print(\n",
        "    f'train mse =\\t {calc_mse(train_x, train_y, rf):.5f}',\n",
        "    f'validation mse = {calc_mse(valid_x, valid_y, rf):.5f}',\n",
        "    f'score on validation = {calc_score(calc_mse(valid_x, valid_y, rf)):.5f}',\n",
        "    sep='\\n'\n",
        ")"
      ]
    },
    {
      "cell_type": "code",
      "execution_count": 669,
      "metadata": {},
      "outputs": [
        {
          "name": "stdout",
          "output_type": "stream",
          "text": [
            "train mse =\t 0.14139\n",
            "validation mse = 0.21041\n",
            "score on validation = 1.18000\n"
          ]
        }
      ],
      "source": [
        "from sklearn.ensemble import GradientBoostingRegressor\n",
        "\n",
        "rng = np.random.RandomState(0)  # Hint 1: Фиксируем random_state для контроля случайности\n",
        "gb_ens = GradientBoostingRegressor(\n",
        "    random_state=rng, \n",
        "    n_estimators=100,\n",
        "    max_depth=3,\n",
        "    learning_rate=0.06,\n",
        "    # validation_fraction=0.2,\n",
        "    # n_iter_no_change=5,\n",
        "    )\n",
        "gb_ens.fit(train_x, train_y)\n",
        "\n",
        "print(\n",
        "    f'train mse =\\t {calc_mse(train_x, train_y, gb_ens):.5f}',\n",
        "    f'validation mse = {calc_mse(valid_x, valid_y, gb_ens):.5f}',\n",
        "    f'score on validation = {calc_score(calc_mse(valid_x, valid_y, gb_ens)):.5f}',\n",
        "    sep='\\n'\n",
        ")"
      ]
    },
    {
      "cell_type": "code",
      "execution_count": 672,
      "metadata": {},
      "outputs": [
        {
          "name": "stdout",
          "output_type": "stream",
          "text": [
            "train mse =\t 0.17248\n",
            "validation mse = 0.20444\n",
            "score on validation = 1.19000\n"
          ]
        }
      ],
      "source": [
        "rng = np.random.RandomState(0)  # Hint 1: Фиксируем random_state для контроля случайности\n",
        "lr_1 = Ridge(random_state=rng)\n",
        "lr_1.fit(train_x, train_y)\n",
        "print(\n",
        "    f'train mse =\\t {calc_mse(train_x, train_y, lr_1):.5f}',\n",
        "    f'validation mse = {calc_mse(valid_x, valid_y, lr_1):.5f}',\n",
        "    f'score on validation = {calc_score(calc_mse(valid_x, valid_y, lr_1)):.5f}',\n",
        "    sep='\\n'\n",
        ")"
      ]
    },
    {
      "cell_type": "code",
      "execution_count": 673,
      "metadata": {},
      "outputs": [
        {
          "name": "stdout",
          "output_type": "stream",
          "text": [
            "train mse =\t 0.17243\n",
            "validation mse = 0.20463\n",
            "score on validation = 1.19000\n"
          ]
        }
      ],
      "source": [
        "from sklearn.linear_model import SGDRegressor\n",
        "\n",
        "rng = np.random.RandomState(0)  # Hint 1: Фиксируем random_state для контроля случайности\n",
        "sgd_reg = SGDRegressor(penalty=\"l2\", random_state=rng, max_iter=1000, tol=1e-3)\n",
        "sgd_reg.fit(train_x, train_y)\n",
        "\n",
        "print(\n",
        "    f'train mse =\\t {calc_mse(train_x, train_y, sgd_reg):.5f}',\n",
        "    f'validation mse = {calc_mse(valid_x, valid_y, sgd_reg):.5f}',\n",
        "    f'score on validation = {calc_score(calc_mse(valid_x, valid_y, sgd_reg)):.5f}',\n",
        "    sep='\\n'\n",
        ")"
      ]
    },
    {
      "cell_type": "markdown",
      "metadata": {},
      "source": [
        "##### Нейронная сеть"
      ]
    },
    {
      "cell_type": "code",
      "execution_count": 723,
      "metadata": {},
      "outputs": [],
      "source": [
        "import torch\n",
        "from torch import nn"
      ]
    },
    {
      "cell_type": "code",
      "execution_count": 722,
      "metadata": {},
      "outputs": [
        {
          "data": {
            "text/plain": [
              "'cpu'"
            ]
          },
          "execution_count": 722,
          "metadata": {},
          "output_type": "execute_result"
        }
      ],
      "source": [
        "device = 'cuda:0' if torch.cuda.is_available() else 'cpu'\n",
        "device"
      ]
    },
    {
      "cell_type": "code",
      "execution_count": 791,
      "metadata": {},
      "outputs": [],
      "source": [
        "class FinalTaskModel(nn.Module):\n",
        "    def __init__(self, in_size) -> None:\n",
        "        super(FinalTaskModel, self).__init__()\n",
        "        self.linear1 = nn.Linear(in_size, 50)\n",
        "        self.linear2 = nn.Linear(50, 25)\n",
        "        self.linear3 = nn.Linear(25, 1)\n",
        "        self.activation = nn.ReLU()\n",
        "        self.softmax = nn.Softmax(dim=1)\n",
        "        self.double()\n",
        "    \n",
        "    def forward(self, x):\n",
        "        x = self.linear1(x)\n",
        "        x = self.activation(x)\n",
        "        x = self.linear2(x)\n",
        "        x = self.activation(x)\n",
        "        x = self.linear3(x)\n",
        "        x = self.activation(x)\n",
        "        x = self.softmax(x)\n",
        "        return x"
      ]
    },
    {
      "cell_type": "code",
      "execution_count": 792,
      "metadata": {},
      "outputs": [],
      "source": [
        "model = FinalTaskModel(train_x.shape[1]) # your code here"
      ]
    },
    {
      "cell_type": "code",
      "execution_count": 793,
      "metadata": {},
      "outputs": [
        {
          "name": "stdout",
          "output_type": "stream",
          "text": [
            "The model:\n",
            "FinalTaskModel(\n",
            "  (linear1): Linear(in_features=3, out_features=50, bias=True)\n",
            "  (linear2): Linear(in_features=50, out_features=25, bias=True)\n",
            "  (linear3): Linear(in_features=25, out_features=1, bias=True)\n",
            "  (activation): ReLU()\n",
            "  (softmax): Softmax(dim=1)\n",
            ")\n"
          ]
        }
      ],
      "source": [
        "print('The model:')\n",
        "print(model)\n",
        "\n",
        "# print('\\n\\nModel params:')\n",
        "# for param in model.parameters():\n",
        "#     print(param)"
      ]
    },
    {
      "cell_type": "code",
      "execution_count": 794,
      "metadata": {},
      "outputs": [],
      "source": [
        "from torch.utils.data import Dataset, DataLoader"
      ]
    },
    {
      "cell_type": "code",
      "execution_count": 795,
      "metadata": {},
      "outputs": [],
      "source": [
        "class FinalTaskDataset(Dataset):\n",
        "    \"\"\"Final Task dataset.\"\"\"\n",
        "\n",
        "    def __init__(self, x_data, y_data):\n",
        "        self.x_data = x_data\n",
        "        self.y_data = y_data\n",
        "\n",
        "    def __len__(self):\n",
        "        return self.x_data.shape[0]\n",
        "\n",
        "    def __getitem__(self, idx):\n",
        "        if torch.is_tensor(idx):\n",
        "            idx = idx.tolist()\n",
        "\n",
        "        return {'features': self.x_data[idx, :].astype('float'), 'label': self.y_data[idx].astype('float')}"
      ]
    },
    {
      "cell_type": "code",
      "execution_count": 796,
      "metadata": {},
      "outputs": [],
      "source": [
        "my_dataset = FinalTaskDataset(train_x, train_y)"
      ]
    },
    {
      "cell_type": "code",
      "execution_count": 797,
      "metadata": {},
      "outputs": [],
      "source": [
        "train_dataloader = DataLoader(my_dataset, batch_size=4, shuffle=True, num_workers=4)"
      ]
    },
    {
      "cell_type": "code",
      "execution_count": 798,
      "metadata": {},
      "outputs": [],
      "source": [
        "random_batch = next(iter(train_dataloader))"
      ]
    },
    {
      "cell_type": "code",
      "execution_count": 799,
      "metadata": {},
      "outputs": [
        {
          "data": {
            "text/plain": [
              "tensor([2.1638, 5.4580, 3.3772, 0.6753], dtype=torch.float64)"
            ]
          },
          "execution_count": 799,
          "metadata": {},
          "output_type": "execute_result"
        }
      ],
      "source": [
        "random_batch['label']"
      ]
    },
    {
      "cell_type": "code",
      "execution_count": 800,
      "metadata": {},
      "outputs": [],
      "source": [
        "loss_fn = nn.MSELoss()"
      ]
    },
    {
      "cell_type": "code",
      "execution_count": 801,
      "metadata": {},
      "outputs": [],
      "source": [
        "optimizer = torch.optim.SGD(model.parameters(), lr=0.001, momentum=0.9)"
      ]
    },
    {
      "cell_type": "code",
      "execution_count": 802,
      "metadata": {},
      "outputs": [],
      "source": [
        "def train_one_epoch():\n",
        "    running_loss = 0.\n",
        "    last_loss = 0.\n",
        "\n",
        "    # Here, we use enumerate(training_loader) instead of\n",
        "    # iter(training_loader) so that we can track the batch\n",
        "    # index and do some intra-epoch reporting\n",
        "    for i, data in enumerate(train_dataloader):\n",
        "        # Every data instance is an input + label pair\n",
        "        inputs, labels = data['features'], data['label']\n",
        "\n",
        "        # inputs = inputs.view(32, -1)\n",
        "\n",
        "        # Zero your gradients for every batch!\n",
        "        optimizer.zero_grad()\n",
        "\n",
        "        # Make predictions for this batch\n",
        "        outputs = model(inputs)\n",
        "\n",
        "        # Compute the loss and its gradients\n",
        "        loss = loss_fn(outputs, labels)\n",
        "        loss.backward()\n",
        "\n",
        "        # Adjust learning weights\n",
        "        optimizer.step()\n",
        "\n",
        "        # Gather data and report\n",
        "        running_loss += loss.item()\n",
        "        if i % 1000 == 999:\n",
        "            last_loss = running_loss / 1000 # loss per batch\n",
        "            print('  batch {} loss: {}'.format(i + 1, last_loss))\n",
        "            running_loss = 0.\n",
        "\n",
        "    return last_loss"
      ]
    },
    {
      "cell_type": "code",
      "execution_count": 803,
      "metadata": {},
      "outputs": [
        {
          "name": "stdout",
          "output_type": "stream",
          "text": [
            "EPOCH 1:\n",
            "LOSS train 0.0\n",
            "EPOCH 2:\n",
            "LOSS train 0.0\n",
            "EPOCH 3:\n",
            "LOSS train 0.0\n",
            "EPOCH 4:\n",
            "LOSS train 0.0\n",
            "EPOCH 5:\n",
            "LOSS train 0.0\n",
            "EPOCH 6:\n",
            "LOSS train 0.0\n",
            "EPOCH 7:\n",
            "LOSS train 0.0\n",
            "EPOCH 8:\n",
            "LOSS train 0.0\n",
            "EPOCH 9:\n",
            "LOSS train 0.0\n",
            "EPOCH 10:\n",
            "LOSS train 0.0\n",
            "EPOCH 11:\n",
            "LOSS train 0.0\n",
            "EPOCH 12:\n",
            "LOSS train 0.0\n",
            "EPOCH 13:\n",
            "LOSS train 0.0\n",
            "EPOCH 14:\n",
            "LOSS train 0.0\n",
            "EPOCH 15:\n",
            "LOSS train 0.0\n",
            "EPOCH 16:\n",
            "LOSS train 0.0\n",
            "EPOCH 17:\n",
            "LOSS train 0.0\n",
            "EPOCH 18:\n",
            "LOSS train 0.0\n",
            "EPOCH 19:\n",
            "LOSS train 0.0\n",
            "EPOCH 20:\n",
            "LOSS train 0.0\n"
          ]
        }
      ],
      "source": [
        "EPOCHS = 20\n",
        "for epoch in range(EPOCHS):\n",
        "    print('EPOCH {}:'.format(epoch + 1))\n",
        "\n",
        "    # Make sure gradient tracking is on, and do a pass over the data\n",
        "    model.train(True)\n",
        "    avg_loss = train_one_epoch()\n",
        "\n",
        "\n",
        "    running_vloss = 0.0\n",
        "    # Set the model to evaluation mode, disabling dropout and using population\n",
        "    # statistics for batch normalization.\n",
        "    model.eval()\n",
        "\n",
        "    print('LOSS train {}'.format(avg_loss))"
      ]
    },
    {
      "cell_type": "code",
      "execution_count": 809,
      "metadata": {},
      "outputs": [
        {
          "data": {
            "text/plain": [
              "FinalTaskModel(\n",
              "  (linear1): Linear(in_features=3, out_features=50, bias=True)\n",
              "  (linear2): Linear(in_features=50, out_features=25, bias=True)\n",
              "  (linear3): Linear(in_features=25, out_features=1, bias=True)\n",
              "  (activation): ReLU()\n",
              "  (softmax): Softmax(dim=1)\n",
              ")"
            ]
          },
          "execution_count": 809,
          "metadata": {},
          "output_type": "execute_result"
        }
      ],
      "source": [
        "model.eval()"
      ]
    },
    {
      "cell_type": "code",
      "execution_count": 819,
      "metadata": {},
      "outputs": [
        {
          "data": {
            "text/plain": [
              "array([[1.],\n",
              "       [1.],\n",
              "       [1.],\n",
              "       [1.],\n",
              "       [1.],\n",
              "       [1.],\n",
              "       [1.],\n",
              "       [1.],\n",
              "       [1.],\n",
              "       [1.],\n",
              "       [1.],\n",
              "       [1.],\n",
              "       [1.],\n",
              "       [1.],\n",
              "       [1.],\n",
              "       [1.],\n",
              "       [1.],\n",
              "       [1.],\n",
              "       [1.],\n",
              "       [1.],\n",
              "       [1.],\n",
              "       [1.],\n",
              "       [1.],\n",
              "       [1.],\n",
              "       [1.],\n",
              "       [1.],\n",
              "       [1.],\n",
              "       [1.],\n",
              "       [1.],\n",
              "       [1.],\n",
              "       [1.],\n",
              "       [1.],\n",
              "       [1.],\n",
              "       [1.],\n",
              "       [1.],\n",
              "       [1.],\n",
              "       [1.],\n",
              "       [1.],\n",
              "       [1.],\n",
              "       [1.],\n",
              "       [1.],\n",
              "       [1.],\n",
              "       [1.],\n",
              "       [1.],\n",
              "       [1.],\n",
              "       [1.],\n",
              "       [1.],\n",
              "       [1.],\n",
              "       [1.],\n",
              "       [1.],\n",
              "       [1.],\n",
              "       [1.],\n",
              "       [1.],\n",
              "       [1.],\n",
              "       [1.],\n",
              "       [1.],\n",
              "       [1.],\n",
              "       [1.],\n",
              "       [1.],\n",
              "       [1.],\n",
              "       [1.],\n",
              "       [1.],\n",
              "       [1.],\n",
              "       [1.],\n",
              "       [1.],\n",
              "       [1.],\n",
              "       [1.],\n",
              "       [1.],\n",
              "       [1.],\n",
              "       [1.],\n",
              "       [1.],\n",
              "       [1.],\n",
              "       [1.],\n",
              "       [1.],\n",
              "       [1.],\n",
              "       [1.],\n",
              "       [1.],\n",
              "       [1.],\n",
              "       [1.],\n",
              "       [1.],\n",
              "       [1.],\n",
              "       [1.],\n",
              "       [1.],\n",
              "       [1.],\n",
              "       [1.],\n",
              "       [1.],\n",
              "       [1.],\n",
              "       [1.],\n",
              "       [1.],\n",
              "       [1.],\n",
              "       [1.],\n",
              "       [1.],\n",
              "       [1.],\n",
              "       [1.],\n",
              "       [1.],\n",
              "       [1.],\n",
              "       [1.],\n",
              "       [1.],\n",
              "       [1.],\n",
              "       [1.],\n",
              "       [1.],\n",
              "       [1.],\n",
              "       [1.],\n",
              "       [1.],\n",
              "       [1.],\n",
              "       [1.],\n",
              "       [1.],\n",
              "       [1.],\n",
              "       [1.],\n",
              "       [1.],\n",
              "       [1.],\n",
              "       [1.],\n",
              "       [1.],\n",
              "       [1.],\n",
              "       [1.],\n",
              "       [1.],\n",
              "       [1.],\n",
              "       [1.],\n",
              "       [1.],\n",
              "       [1.],\n",
              "       [1.],\n",
              "       [1.],\n",
              "       [1.],\n",
              "       [1.],\n",
              "       [1.],\n",
              "       [1.],\n",
              "       [1.],\n",
              "       [1.],\n",
              "       [1.],\n",
              "       [1.],\n",
              "       [1.],\n",
              "       [1.],\n",
              "       [1.],\n",
              "       [1.],\n",
              "       [1.],\n",
              "       [1.],\n",
              "       [1.],\n",
              "       [1.],\n",
              "       [1.],\n",
              "       [1.],\n",
              "       [1.],\n",
              "       [1.],\n",
              "       [1.],\n",
              "       [1.],\n",
              "       [1.],\n",
              "       [1.],\n",
              "       [1.],\n",
              "       [1.],\n",
              "       [1.],\n",
              "       [1.],\n",
              "       [1.],\n",
              "       [1.],\n",
              "       [1.],\n",
              "       [1.],\n",
              "       [1.],\n",
              "       [1.],\n",
              "       [1.],\n",
              "       [1.],\n",
              "       [1.],\n",
              "       [1.],\n",
              "       [1.],\n",
              "       [1.],\n",
              "       [1.],\n",
              "       [1.],\n",
              "       [1.],\n",
              "       [1.],\n",
              "       [1.],\n",
              "       [1.],\n",
              "       [1.],\n",
              "       [1.],\n",
              "       [1.],\n",
              "       [1.],\n",
              "       [1.],\n",
              "       [1.],\n",
              "       [1.],\n",
              "       [1.],\n",
              "       [1.],\n",
              "       [1.],\n",
              "       [1.],\n",
              "       [1.],\n",
              "       [1.],\n",
              "       [1.],\n",
              "       [1.],\n",
              "       [1.],\n",
              "       [1.],\n",
              "       [1.],\n",
              "       [1.],\n",
              "       [1.],\n",
              "       [1.],\n",
              "       [1.],\n",
              "       [1.],\n",
              "       [1.],\n",
              "       [1.],\n",
              "       [1.],\n",
              "       [1.],\n",
              "       [1.],\n",
              "       [1.],\n",
              "       [1.],\n",
              "       [1.],\n",
              "       [1.],\n",
              "       [1.],\n",
              "       [1.],\n",
              "       [1.],\n",
              "       [1.],\n",
              "       [1.],\n",
              "       [1.],\n",
              "       [1.],\n",
              "       [1.],\n",
              "       [1.],\n",
              "       [1.],\n",
              "       [1.],\n",
              "       [1.],\n",
              "       [1.],\n",
              "       [1.],\n",
              "       [1.],\n",
              "       [1.],\n",
              "       [1.],\n",
              "       [1.],\n",
              "       [1.],\n",
              "       [1.],\n",
              "       [1.],\n",
              "       [1.],\n",
              "       [1.],\n",
              "       [1.],\n",
              "       [1.],\n",
              "       [1.],\n",
              "       [1.],\n",
              "       [1.],\n",
              "       [1.],\n",
              "       [1.],\n",
              "       [1.],\n",
              "       [1.],\n",
              "       [1.],\n",
              "       [1.],\n",
              "       [1.],\n",
              "       [1.],\n",
              "       [1.],\n",
              "       [1.],\n",
              "       [1.],\n",
              "       [1.]])"
            ]
          },
          "execution_count": 819,
          "metadata": {},
          "output_type": "execute_result"
        }
      ],
      "source": [
        "np.array(model(torch.tensor(valid_x)).detach())"
      ]
    },
    {
      "cell_type": "markdown",
      "metadata": {
        "id": "KPe4GnMZ_Dxa"
      },
      "source": [
        "##### Сдача первой части соревнования\n",
        "Загрузите файл `hw_final_closed_data.npy` (ссылка есть на странице с заданием). Если вы используете sklearn-совместимую модель, для генерации посылки вы можете воспользоваться функцией `get_predictions`. В ином случае перепишите функцию для вашей модели и запустите код под следующей ячейкой для генерации посылки."
      ]
    },
    {
      "cell_type": "code",
      "execution_count": null,
      "metadata": {
        "colab": {
          "base_uri": "https://localhost:8080/"
        },
        "id": "PGOEaipG_Dxb",
        "outputId": "7b615e73-a0ee-41bb-8dae-0e50c4038fb0"
      },
      "outputs": [
        {
          "name": "stdout",
          "output_type": "stream",
          "text": [
            "--2023-11-29 07:40:34--  https://raw.githubusercontent.com/girafe-ai/ml-course/23f_yandex_ml_trainings/homeworks/assignment_final/hw_final_closed_data.npy\n",
            "Resolving raw.githubusercontent.com (raw.githubusercontent.com)... 185.199.108.133, 185.199.109.133, 185.199.110.133, ...\n",
            "Connecting to raw.githubusercontent.com (raw.githubusercontent.com)|185.199.108.133|:443... connected.\n",
            "HTTP request sent, awaiting response... 200 OK\n",
            "Length: 11328 (11K) [application/octet-stream]\n",
            "Saving to: ‘hw_final_closed_data.npy’\n",
            "\n",
            "\rhw_final_closed_dat   0%[                    ]       0  --.-KB/s               \rhw_final_closed_dat 100%[===================>]  11.06K  --.-KB/s    in 0s      \n",
            "\n",
            "2023-11-29 07:40:34 (65.9 MB/s) - ‘hw_final_closed_data.npy’ saved [11328/11328]\n",
            "\n"
          ]
        }
      ],
      "source": [
        "!wget https://raw.githubusercontent.com/girafe-ai/ml-course/23f_yandex_ml_trainings/homeworks/assignment_final/hw_final_closed_data.npy -O hw_final_closed_data.npy"
      ]
    },
    {
      "cell_type": "code",
      "execution_count": 674,
      "metadata": {
        "id": "KyLD_D4Q_Dxb"
      },
      "outputs": [],
      "source": [
        "assert os.path.exists('hw_final_closed_data.npy'), 'Please, download `hw_final_closed_data.npy` and place it in the working directory'\n",
        "closed_data = np.load('hw_final_closed_data.npy', allow_pickle=False)"
      ]
    },
    {
      "cell_type": "markdown",
      "metadata": {
        "id": "LpP3y2UM_Dxb"
      },
      "source": [
        "Если необходимо, преобразуйте данные. Преобразованную матрицу объект-признак сохраните в переменную `closed_data`."
      ]
    },
    {
      "cell_type": "code",
      "execution_count": 675,
      "metadata": {
        "id": "A4WvkcPh_Dxb"
      },
      "outputs": [
        {
          "data": {
            "text/plain": [
              "(200, 3)"
            ]
          },
          "execution_count": 675,
          "metadata": {},
          "output_type": "execute_result"
        }
      ],
      "source": [
        "# optional transformations\n",
        "# closed_data = np.take(closed_data, [0,1,3,4,5], axis=1)\n",
        "closed_data = np.take(closed_data, [1,3,5], axis=1)\n",
        "closed_data = scaler.transform(closed_data)\n",
        "closed_data.shape"
      ]
    },
    {
      "cell_type": "code",
      "execution_count": 676,
      "metadata": {
        "id": "ihcAVizA_Dxb"
      },
      "outputs": [],
      "source": [
        "def get_predictions(model, eval_data, step=10):\n",
        "    predicted_values = model.predict(eval_data)\n",
        "    return predicted_values"
      ]
    },
    {
      "cell_type": "markdown",
      "metadata": {
        "id": "1AD83l6K_Dxb"
      },
      "source": [
        "Обращаем ваше внимание, предсказания округляются до сотых!"
      ]
    },
    {
      "cell_type": "code",
      "execution_count": 679,
      "metadata": {
        "id": "FfC86BG4_Dxb"
      },
      "outputs": [],
      "source": [
        "predicted_values = np.round(get_predictions(model=sgd_reg, eval_data=closed_data), 2)\n",
        "\n",
        "assert predicted_values.shape == (closed_data.shape[0], ) # predictions should be just one-dimensional array"
      ]
    },
    {
      "cell_type": "code",
      "execution_count": 678,
      "metadata": {
        "colab": {
          "base_uri": "https://localhost:8080/"
        },
        "id": "ZWf3TD-x_Dxb",
        "outputId": "cd143a9c-11f7-4807-aa19-781ea832efb2"
      },
      "outputs": [
        {
          "name": "stdout",
          "output_type": "stream",
          "text": [
            "File saved to `submission_dict_final_p01.npy`\n"
          ]
        }
      ],
      "source": [
        "# do not change the code in the block below\n",
        "# __________start of block__________\n",
        "def float_list_to_comma_separated_str(_list):\n",
        "    _list = list(np.round(np.array(_list), 2))\n",
        "    return ','.join([str(x) for x in _list])\n",
        "\n",
        "submission_dict = {\n",
        "    'predictions': float_list_to_comma_separated_str(predicted_values)\n",
        "}\n",
        "with open('submission_dict_final_p01.json', 'w') as iofile:\n",
        "    json.dump(submission_dict, iofile)\n",
        "\n",
        "print('File saved to `submission_dict_final_p01.npy`')\n",
        "# __________end of block__________"
      ]
    },
    {
      "cell_type": "markdown",
      "metadata": {
        "id": "JqseUTZo_Dxb"
      },
      "source": [
        "\n",
        "\n",
        "\n",
        "\n",
        "### Модель №2\n",
        "Функция `my_transformation` принимает на вход матрицу объект-признак (`numpy.ndarray` типа `np.float`) и преобразует ее в новую матрицу. Данная функция может использовать только numpy-операции, а также арифметические действия.\n",
        "\n",
        "Для примера доступна функция ниже. Она лишь добавляет новый признак, представляющий собой произведение первого и второго исходных признаков (считая с нуля)."
      ]
    },
    {
      "cell_type": "code",
      "execution_count": 864,
      "metadata": {},
      "outputs": [],
      "source": [
        "train_x, valid_x, train_y, valid_y = train_test_split(data, target, test_size=0.3)"
      ]
    },
    {
      "cell_type": "code",
      "execution_count": 869,
      "metadata": {
        "id": "UBLSd32C_Dxc"
      },
      "outputs": [],
      "source": [
        "def my_transformation(feature_matrix: np.ndarray):\n",
        "    # new_feature_matrix = np.zeros((feature_matrix.shape[0], feature_matrix.shape[1]+1))\n",
        "    # new_feature_matrix[:, :feature_matrix.shape[1]] = feature_matrix\n",
        "    # new_feature_matrix[:, -1] = feature_matrix[:, 0] * feature_matrix[:, 1]\n",
        "\n",
        "    # new_feature_matrix = feature_matrix\n",
        "    new_feature_matrix = np.take(feature_matrix, [1,3,5], axis=1)\n",
        "    \n",
        "    print(f\"Shapes before: {feature_matrix.shape}, after: {new_feature_matrix.shape}\")\n",
        "    return new_feature_matrix"
      ]
    },
    {
      "cell_type": "code",
      "execution_count": 870,
      "metadata": {
        "id": "0mqMrruk_Dxc"
      },
      "outputs": [
        {
          "name": "stdout",
          "output_type": "stream",
          "text": [
            "Shapes before: (560, 7), after: (560, 3)\n"
          ]
        }
      ],
      "source": [
        "transformed_train_x = my_transformation(train_x)"
      ]
    },
    {
      "cell_type": "code",
      "execution_count": 871,
      "metadata": {
        "colab": {
          "base_uri": "https://localhost:8080/"
        },
        "id": "lkgrLGCe_Dxc",
        "outputId": "52777127-349a-46d8-b2b5-00d4cda63ab8"
      },
      "outputs": [
        {
          "name": "stdout",
          "output_type": "stream",
          "text": [
            "Shapes before: (240, 7), after: (240, 3)\n",
            "Shapes before: (240, 7), after: (240, 3)\n",
            "train mse =\t 0.09344\n",
            "validation mse = 0.08412\n",
            "score on validation = 1.23000\n"
          ]
        }
      ],
      "source": [
        "rng = np.random.RandomState(0)\n",
        "lr = Ridge(random_state=rng)\n",
        "lr.fit(transformed_train_x, train_y)\n",
        "\n",
        "print(\n",
        "    f'train mse =\\t {mean_squared_error(lr.predict(transformed_train_x), train_y):.5f}',\n",
        "    f'validation mse = {mean_squared_error(lr.predict(my_transformation(valid_x)), valid_y):.5f}',\n",
        "    f'score on validation = {calc_score(calc_mse(my_transformation(valid_x), valid_y, lr)):.5f}',\n",
        "    sep='\\n'\n",
        ")"
      ]
    },
    {
      "cell_type": "markdown",
      "metadata": {
        "id": "imM-gD6X_Dxc"
      },
      "source": [
        "Обращаем ваше внимание, что параметры линейной модели будут округляться до __четырех знаков после запятой__. Это не должно сильно повлиять на качество предсказаний:"
      ]
    },
    {
      "cell_type": "code",
      "execution_count": 872,
      "metadata": {
        "id": "4OxT1KTO_Dxc"
      },
      "outputs": [],
      "source": [
        "original_predictions = lr.predict(transformed_train_x)\n",
        "rounded_predictions = transformed_train_x.dot(np.round(lr.coef_, 4)) + np.round(lr.intercept_, 4)\n",
        "\n",
        "\n",
        "assert np.allclose(original_predictions, rounded_predictions, atol=1e-3)"
      ]
    },
    {
      "cell_type": "markdown",
      "metadata": {
        "id": "nNVvn682_Dxc"
      },
      "source": [
        "Параметры вашей модели:"
      ]
    },
    {
      "cell_type": "code",
      "execution_count": 873,
      "metadata": {
        "colab": {
          "base_uri": "https://localhost:8080/"
        },
        "id": "8NNO4nJg_Dxc",
        "outputId": "f43cf181-da51-4c33-e62d-500427cf149f"
      },
      "outputs": [
        {
          "name": "stdout",
          "output_type": "stream",
          "text": [
            "w = [0.4587, 0.6328, 1.4441]\n",
            "b = 1.3811\n"
          ]
        }
      ],
      "source": [
        "w_list = list(np.round(lr.coef_, 4))\n",
        "print(f'w = {list(np.round(lr.coef_, 4))}\\nb = {np.round(lr.intercept_, 4)}')"
      ]
    },
    {
      "cell_type": "markdown",
      "metadata": {
        "id": "_tMW1dcd_Dxc"
      },
      "source": [
        "Напоминаем, ваша модель не должна использовать более 15 параметров (14 весов плюс свободный член)."
      ]
    },
    {
      "cell_type": "code",
      "execution_count": 874,
      "metadata": {
        "id": "LC_tPY9t_Dxc"
      },
      "outputs": [],
      "source": [
        "assert len(w_list) + 1 <= 15"
      ]
    },
    {
      "cell_type": "markdown",
      "metadata": {
        "id": "Q5x4-u3J_Dxc"
      },
      "source": [
        "##### Сдача второй части соревнования\n",
        "Для сдачи вам достаточно отправить функцию `my_transformation` и параметры вашей модели в контест в задачу №2. Пример посылки доступен ниже"
      ]
    },
    {
      "cell_type": "code",
      "execution_count": 875,
      "metadata": {
        "id": "y7_7Eahh_Dxc"
      },
      "outputs": [],
      "source": [
        "# __________example_submission_start__________\n",
        "\n",
        "def my_transformation(feature_matrix: np.ndarray):\n",
        "    new_feature_matrix = np.zeros((feature_matrix.shape[0], feature_matrix.shape[1]+1))\n",
        "    new_feature_matrix[:, :feature_matrix.shape[1]] = feature_matrix\n",
        "    new_feature_matrix[:, -1] = feature_matrix[:, 0\n",
        "    ] * feature_matrix[:, 1]\n",
        "    return new_feature_matrix\n",
        "\n",
        "w_submission = [-0.0027, -0.2637, 0.0, -0.1134, -0.0165, -0.9329, 0.0, 0.1293]\n",
        "b_submission = 1.1312\n",
        "# __________example_submission_end__________"
      ]
    },
    {
      "cell_type": "markdown",
      "metadata": {
        "id": "7SReYwcb_Dxc"
      },
      "source": [
        "На этом задание завершено. Поздравляем!"
      ]
    },
    {
      "cell_type": "markdown",
      "metadata": {
        "id": "qQtrbRbiBs6X"
      },
      "source": []
    },
    {
      "cell_type": "markdown",
      "metadata": {
        "id": "ndHKHkNAB2Kx"
      },
      "source": [
        "### Идеи, заметки, hint-ы\n",
        "\n",
        "1. random_state - https://scikit-learn.ru/10-3-controlling-randomness/  \n",
        "2. Графики для анализа фичей (вид зависимости таргета от фичей и их комбинаций) + корреляции признаков друг с другом - https://www.kaggle.com/code/prashant111/comprehensive-guide-on-feature-selection  \n",
        "3. Нормализация/стандартизация данных - https://scikit-learn.org/stable/modules/generated/sklearn.preprocessing.StandardScaler.html без дата ликов + посмотреть на аномалии в таргете и фичах  \n",
        "4. XGBoost - https://xgboost.readthedocs.io/en/stable/ + shap values - https://shap.readthedocs.io/en/latest/example_notebooks/overviews/An%20introduction%20to%20explainable%20AI%20with%20Shapley%20values.html\n",
        "для важности признаков и предпосылок  \n",
        "5. Подумайте над методами оптимизации гиперпараметров помимо GridSearchCV  \n",
        "6. Подумать на stacking-ом в пункте 1 (какие модельки взят?)  \n",
        "7. Как отбирать топ фичей после генерации новых? точно не Brute-force - https://dataaspirant.com/stepwise-regression/"
      ]
    }
  ],
  "metadata": {
    "colab": {
      "provenance": []
    },
    "kernelspec": {
      "display_name": "ml-env",
      "language": "python",
      "name": "python3"
    },
    "language_info": {
      "codemirror_mode": {
        "name": "ipython",
        "version": 3
      },
      "file_extension": ".py",
      "mimetype": "text/x-python",
      "name": "python",
      "nbconvert_exporter": "python",
      "pygments_lexer": "ipython3",
      "version": "3.8.10"
    }
  },
  "nbformat": 4,
  "nbformat_minor": 0
}
